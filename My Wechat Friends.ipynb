{
 "cells": [
  {
   "cell_type": "markdown",
   "metadata": {},
   "source": [
    "## 人工智能编程基础（试学班）\n",
    "\n",
    "## 项目：我的微信好友\n",
    "\n",
    "在这个notebook文件中，有些模板代码已经提供给你，但你还需要实现更多的功能来完成这个项目。除非有明确要求，你无须修改任何已给出的代码。以**'(练习)'**开始的标题表示接下来的代码部分中有你需要实现的功能。这些部分都配有详细的指导，需要实现的部分也会在注释中以'TODO'标出。请仔细阅读所有的提示。\n",
    "\n",
    "除了实现代码外，你还**需要**回答一些与项目及代码相关的问题。每个需要回答的问题都会以 **'问题 X'** 标记。请仔细阅读每个问题，并且在问题后的 **'回答'** 部分写出完整的答案。我们将根据 你对问题的回答 和 撰写代码实现的功能 来对你提交的项目进行评分。\n",
    "\n",
    ">**提示：**Code 和 Markdown 区域可通过 **Shift + Enter** 快捷键运行。此外，Markdown可以通过双击进入编辑模式。\n",
    "\n",
    "---\n",
    "\n",
    "### 让我们开始吧\n",
    "\n",
    "在这个项目中，你将通过开源的微信个人号接口 [itchat](http://itchat.readthedocs.io/zh/latest/) 来实现 Python 调用微信好友数据，并做一些有趣的统计和分析，最终分享给你的好友 :P\n",
    "\n",
    "### 项目内容\n",
    "\n",
    "我们将这个notebook分为不同的步骤，你将完成以下5个任务：\n",
    "\n",
    "**任务0 - 登陆微信，并通过向文件传输助手发送打招呼信息**\n",
    "\n",
    "**任务1 - 统计你的微信好友的男女比例**\n",
    "\n",
    "**任务2 - 分析微信好友的地域分布**\n",
    "\n",
    "**任务3 - 生成微信好友的签名词云图**\n",
    "\n",
    "**任务4 - 对签名进行情感分析**"
   ]
  },
  {
   "cell_type": "markdown",
   "metadata": {},
   "source": [
    "---\n",
    "\n",
    "## 任务0. 登陆并发送打招呼信息\n",
    "\n",
    "### 登陆\n",
    "在这一个章节中，我们已经为你导入`itchat`这个包，并调用`login()`函数登陆网页微信，试试看运行以下代码，并扫描二维码以登陆网页微信。"
   ]
  },
  {
   "cell_type": "code",
   "execution_count": 1,
   "metadata": {},
   "outputs": [
    {
     "name": "stdout",
     "output_type": "stream",
     "text": [
      "所有库导入成功！\n"
     ]
    }
   ],
   "source": [
    "### 以下内容无需改动，直接运行即可\n",
    "# 导入项目中所需要的包\n",
    "import itchat\n",
    "import pandas as pd\n",
    "import re\n",
    "import os \n",
    "import numpy as np\n",
    "import pinyin\n",
    "import matplotlib.pyplot as plt\n",
    "%matplotlib inline\n",
    "\n",
    "print(\"所有库导入成功！\")"
   ]
  },
  {
   "cell_type": "code",
   "execution_count": 26,
   "metadata": {},
   "outputs": [
    {
     "name": "stderr",
     "output_type": "stream",
     "text": [
      "Getting uuid of QR code.\n",
      "Downloading QR code.\n",
      "Please scan the QR code to log in.\n",
      "Please press confirm on your phone.\n",
      "Loading the contact, this may take a little while.\n",
      "Login successfully as JachinShen\n"
     ]
    }
   ],
   "source": [
    "# 调用login()函数以登录网页微信\n",
    "itchat.login()"
   ]
  },
  {
   "cell_type": "code",
   "execution_count": 27,
   "metadata": {},
   "outputs": [],
   "source": [
    "### 以下内容无需改动，直接运行即可\n",
    "# 读取数据\n",
    "dataset = itchat.get_friends(update=True)[0:]"
   ]
  },
  {
   "cell_type": "markdown",
   "metadata": {},
   "source": [
    "### 练习：打个招呼吧\n",
    "\n",
    "在这个章节中，我们将调用`itchat`的`send()`函数向文件传输助手`filehelper`发送一个打招呼信息吧！\n",
    "\n",
    "你需要完成以下内容：\n",
    " - 将想要发送的信息内容赋值给`message`"
   ]
  },
  {
   "cell_type": "code",
   "execution_count": 28,
   "metadata": {},
   "outputs": [],
   "source": [
    "### TODO：将信息内容赋值给message\n",
    "message = \"Hello World!\""
   ]
  },
  {
   "cell_type": "code",
   "execution_count": 29,
   "metadata": {},
   "outputs": [
    {
     "data": {
      "text/plain": [
       "<ItchatReturnValue: {'BaseResponse': {'Ret': 0, 'ErrMsg': '请求成功', 'RawMsg': '请求成功'}, 'MsgID': '923640590093338921', 'LocalID': '15309663007195'}>"
      ]
     },
     "execution_count": 29,
     "metadata": {},
     "output_type": "execute_result"
    }
   ],
   "source": [
    "### 以下内容无需改动，直接运行即可\n",
    "# 发送消息\n",
    "itchat.send(message, 'filehelper')"
   ]
  },
  {
   "cell_type": "markdown",
   "metadata": {},
   "source": [
    "打开手机微信端的文件传输助手，看看是否收到了这条信息，并回答以下问题。\n",
    "\n",
    "### **问题1**\n",
    "message 的变量类型是什么？"
   ]
  },
  {
   "cell_type": "markdown",
   "metadata": {},
   "source": [
    "**回答**：字符串"
   ]
  },
  {
   "cell_type": "code",
   "execution_count": 30,
   "metadata": {},
   "outputs": [
    {
     "name": "stderr",
     "output_type": "stream",
     "text": [
      "LOG OUT!\n"
     ]
    },
    {
     "data": {
      "text/plain": [
       "<ItchatReturnValue: {'BaseResponse': {'ErrMsg': '请求成功', 'Ret': 0, 'RawMsg': 'logout successfully.'}}>"
      ]
     },
     "execution_count": 30,
     "metadata": {},
     "output_type": "execute_result"
    }
   ],
   "source": [
    "### 退出登陆\n",
    "itchat.logout()"
   ]
  },
  {
   "cell_type": "markdown",
   "metadata": {},
   "source": [
    "---\n",
    "\n",
    "## 任务1. 好友男女比例"
   ]
  },
  {
   "cell_type": "markdown",
   "metadata": {},
   "source": [
    "根据我们希望探索的问题，需要从数据集中取出以下几个部分：\n",
    "- NickName：微信昵称\n",
    "- Sex：性别，1表示男性，2表示女性\n",
    "- Province：省份\n",
    "- City：城市\n",
    "- Signature：微信签名"
   ]
  },
  {
   "cell_type": "code",
   "execution_count": 31,
   "metadata": {},
   "outputs": [],
   "source": [
    "### 以下内容无需改动，直接运行即可\n",
    "def preprocess_data(dataset):\n",
    "    \n",
    "    data = [{'NickName': item['NickName'], \n",
    "            'Sex': item['Sex'], \n",
    "            'Province': item['Province'], \n",
    "            'City': item['City'], \n",
    "            'Signature': item['Signature']} for item in dataset]\n",
    "    \n",
    "    return data\n",
    "\n",
    "pre_data = preprocess_data(dataset)"
   ]
  },
  {
   "cell_type": "markdown",
   "metadata": {},
   "source": [
    "### 练习：打印数据\n",
    "* 打印`pre_data`的数据类型\n",
    "* 打印`pre_data`中的第一条数据，以及其数据类型。\n",
    "* 打印`pre_data`中第一条数据的微信昵称"
   ]
  },
  {
   "cell_type": "code",
   "execution_count": 32,
   "metadata": {},
   "outputs": [
    {
     "name": "stdout",
     "output_type": "stream",
     "text": [
      "<class 'list'>\n"
     ]
    }
   ],
   "source": [
    "### TODO：打印pre_data的数据类型\n",
    "print(type(pre_data))"
   ]
  },
  {
   "cell_type": "code",
   "execution_count": 33,
   "metadata": {},
   "outputs": [
    {
     "name": "stdout",
     "output_type": "stream",
     "text": [
      "{'NickName': 'JachinShen', 'Sex': 0, 'Province': '', 'City': '', 'Signature': '我爱学习'}\n",
      "<class 'dict'>\n"
     ]
    }
   ],
   "source": [
    "### TODO：打印第一条数据及数据类型\n",
    "print(pre_data[0])\n",
    "print(type(pre_data[0]))"
   ]
  },
  {
   "cell_type": "code",
   "execution_count": 34,
   "metadata": {},
   "outputs": [
    {
     "name": "stdout",
     "output_type": "stream",
     "text": [
      "JachinShen\n"
     ]
    }
   ],
   "source": [
    "### TODO：打印第一条数据的微信昵称\n",
    "print(pre_data[0]['NickName'])"
   ]
  },
  {
   "cell_type": "markdown",
   "metadata": {},
   "source": [
    "### **问题2**\n",
    "pre_data的数据类型是什么？pre_data中第一条数据的数据类型呢？根据你的理解，这两种数据类型的区别是什么？"
   ]
  },
  {
   "cell_type": "markdown",
   "metadata": {},
   "source": [
    "回答：pre_data的数据类型是列表，pre_data中第一条数据的数据类型是字典。\n",
    "\n",
    "列表和字典的区别:\n",
    "- 列表通过整型数字索引，字典通过键值索引\n",
    "- 列表更注重于数据的顺序，数据相互之间是有序的，字典更注重键到值的映射，数据之间是无序的"
   ]
  },
  {
   "cell_type": "markdown",
   "metadata": {},
   "source": [
    "### 练习：统计男女比例\n",
    "- 统计好友性别，分为男性、女性与未知三种，赋值到已经定义好的`sex`字典中。\n",
    "\n",
    "提示：\n",
    "- `pre_data`中1表示男性、2表示女性；\n",
    "- 数据需要从第1条开始计算，因为第0条是自己。"
   ]
  },
  {
   "cell_type": "code",
   "execution_count": 35,
   "metadata": {},
   "outputs": [],
   "source": [
    "# TODO：统计好友性别\n",
    "sex = {\n",
    "    'male': 0,\n",
    "    'female': 0,\n",
    "    'unknown': 0\n",
    "}\n",
    "for friend in pre_data[1:]:\n",
    "    if friend['Sex'] == 1:\n",
    "        sex['male'] += 1\n",
    "    elif friend['Sex'] == 2:\n",
    "        sex['female'] += 1\n",
    "    else:\n",
    "        sex['unknown'] += 1"
   ]
  },
  {
   "cell_type": "code",
   "execution_count": 36,
   "metadata": {},
   "outputs": [
    {
     "name": "stdout",
     "output_type": "stream",
     "text": [
      "我的好友中共有 93 位男性、 20 位女性，有 31 位好友未填写。\n"
     ]
    }
   ],
   "source": [
    "### 以下内容无需改动，直接运行即可\n",
    "print(\"我的好友中共有\", sex['male'],\"位男性、\", sex['female'], \"位女性，有\", sex['unknown'], \"位好友未填写。\")"
   ]
  },
  {
   "cell_type": "code",
   "execution_count": 37,
   "metadata": {},
   "outputs": [
    {
     "data": {
      "image/png": "[encoded data removed]",
      "text/plain": [
       "<Figure size 640x400 with 1 Axes>"
      ]
     },
     "metadata": {},
     "output_type": "display_data"
    }
   ],
   "source": [
    "### 以下内容无需改动，直接运行即可\n",
    "plt.figure(figsize=(8,5), dpi=80)\n",
    "plt.axes(aspect=1) \n",
    "plt.pie([sex['male'], sex['female'], sex['unknown']],\n",
    "        labels=['Male','Female','Unknown'],\n",
    "        labeldistance = 1.1,\n",
    "        autopct = '%3.1f%%',\n",
    "        shadow = False,\n",
    "        startangle = 90,\n",
    "        pctdistance = 0.6 \n",
    ")\n",
    "\n",
    "plt.legend(loc='upper left',)\n",
    "plt.title(\"My Wechat Friends' Sex Ratio\")\n",
    "plt.show()"
   ]
  },
  {
   "cell_type": "markdown",
   "metadata": {},
   "source": [
    "这段代码的作用是绘制饼图，是不是很有趣？\n",
    "\n",
    "**饼状图**是一种常见的单变量图形，用于描绘分类变量级别的相对频率。饼图中的频率用圆形的扇区表示：角度或面积越大，该分类值就越常见。\n",
    "\n",
    "在「人工智能编程基础」这门课的第二章节中，将讲解如何使用`matplotlib`和`seaborn`绘制各种统计图表，进行数据可视化。\n",
    "\n",
    "---"
   ]
  },
  {
   "cell_type": "markdown",
   "metadata": {},
   "source": [
    "## 任务2. 好友地域分布\n",
    "### 练习：统计好友省份\n",
    "使用`list`中`append()`方法将好友省份添加至`province`中，注意要去除空的字符串\n",
    "\n",
    "提示：可以用`for`循环实现"
   ]
  },
  {
   "cell_type": "code",
   "execution_count": 38,
   "metadata": {
    "scrolled": true
   },
   "outputs": [],
   "source": [
    "### TODO：将好友所在省份（不为空）添加到 province 中\n",
    "province = []\n",
    "for friend in pre_data[1:]:\n",
    "    if friend['Province']:\n",
    "        province.append(friend['Province'])"
   ]
  },
  {
   "cell_type": "code",
   "execution_count": 39,
   "metadata": {},
   "outputs": [],
   "source": [
    "### 以下内容无需修改，直接运行即可\n",
    "province = [pinyin.get(i, format=\"strip\", delimiter=\"\") for i in province if i != '']"
   ]
  },
  {
   "cell_type": "code",
   "execution_count": 40,
   "metadata": {},
   "outputs": [
    {
     "data": {
      "text/plain": [
       "<matplotlib.axes._subplots.AxesSubplot at 0x7fc4a971b550>"
      ]
     },
     "execution_count": 40,
     "metadata": {},
     "output_type": "execute_result"
    },
    {
     "data": {
      "image/png": "[encoded data removed]",
      "text/plain": [
       "<Figure size 432x288 with 1 Axes>"
      ]
     },
     "metadata": {},
     "output_type": "display_data"
    }
   ],
   "source": [
    "### 以下内容无需修改，直接运行即可\n",
    "province = pd.DataFrame(province)\n",
    "province.columns = ['Province']\n",
    "province['Number of Friends'] = 1\n",
    "province.groupby('Province').sum().sort_values('Number of Friends', ascending=False)[:10].plot.bar()"
   ]
  },
  {
   "cell_type": "markdown",
   "metadata": {},
   "source": [
    "**条形图**用于描述分类变量的分布情况。在条形图中，分类变量的每个级别用长条表示，高度表示数据在该级别的出现频率。"
   ]
  },
  {
   "cell_type": "markdown",
   "metadata": {},
   "source": [
    "---\n",
    "\n",
    "## 任务3. 生成好友个性签名词云图\n",
    "\n",
    "在这里我们希望生成词云，只需要调用第三方库即可，Python有大量的库可以使用，能极大提高开发效率，是编程入门的绝佳选择。\n",
    "\n",
    "### 练习：打印个性签名\n",
    "* 使用`print()`语句打印出自己的个性签名"
   ]
  },
  {
   "cell_type": "code",
   "execution_count": 41,
   "metadata": {},
   "outputs": [
    {
     "name": "stdout",
     "output_type": "stream",
     "text": [
      "我爱学习\n"
     ]
    }
   ],
   "source": [
    "### TODO：打印自己的个性签名\n",
    "print(pre_data[0][\"Signature\"])"
   ]
  },
  {
   "cell_type": "code",
   "execution_count": 42,
   "metadata": {},
   "outputs": [],
   "source": [
    "### 以下内容无需修改，直接运行即可\n",
    "from wordcloud import WordCloud\n",
    "import jieba\n",
    "\n",
    "tList = []\n",
    "for i in pre_data:\n",
    "    signature = i[\"Signature\"].replace(\" \", \"\").replace(\"span\", \"\").replace(\"class\", \"\").replace(\"emoji\", \"\")\n",
    "    rep = re.compile(\"1f\\d.+\")\n",
    "    signature = rep.sub(\"\", signature)\n",
    "    if len(signature) > 0:\n",
    "        tList.append(signature)\n",
    "    \n",
    "text = \"\".join(tList)\n",
    "\n",
    "wordlist_jieba = jieba.cut(text, cut_all=True)\n",
    "wl_space_split = \" \".join(wordlist_jieba)"
   ]
  },
  {
   "cell_type": "code",
   "execution_count": 43,
   "metadata": {},
   "outputs": [
    {
     "data": {
      "image/png": "[encoded data removed]",
      "text/plain": [
       "<Figure size 432x288 with 1 Axes>"
      ]
     },
     "metadata": {},
     "output_type": "display_data"
    },
    {
     "data": {
      "text/plain": [
       "<wordcloud.wordcloud.WordCloud at 0x7fc4a4f98588>"
      ]
     },
     "execution_count": 43,
     "metadata": {},
     "output_type": "execute_result"
    }
   ],
   "source": [
    "### 以下内容无需修改，直接运行即可\n",
    "import PIL.Image as Image\n",
    "\n",
    "alice_coloring = np.array(Image.open(\"wechat.jpg\"))\n",
    "\n",
    "my_wordcloud = WordCloud(background_color=\"white\", max_words=2000, mask=alice_coloring,\n",
    "                         max_font_size=40, random_state=42, font_path='./SimHei.ttf').generate(wl_space_split)\n",
    "\n",
    "\n",
    "plt.imshow(my_wordcloud)\n",
    "plt.axis(\"off\")\n",
    "plt.show()\n",
    "\n",
    "my_wordcloud.to_file(os.path.join(\"wechatfriends_wordcloud.png\"))"
   ]
  },
  {
   "cell_type": "markdown",
   "metadata": {},
   "source": [
    "---\n",
    "\n",
    "## 任务4. 对好友签名进行情感分析\n",
    "\n",
    "在这部分内容中，我们调用了[SnowNLP](https://github.com/isnowfy/snownlp)的情感分析，它是一个python写的类库，可以方便的处理中文文本内容，不用我们实现其中具体的代码。一般来说，情感分析的目的是为了找出作者观点的态度，是正向还是负向，或者更具体的，我们希望知道他的情绪。\n",
    "\n",
    "在这里，我们希望了解到好友签名所表达出来的情感是积极的，还是中立、负面的，比如说在以下例子中，我们对\"这个商品我非常喜欢，颜色很合我意！\"这句话进行了预处理，并通过训练好的模型预测其的情感。\n",
    "\n",
    "在这里，我们简单地假设大于0.66表示积极，低于0.33表示消极，其他表示中立。\n",
    "\n",
    "运行以下代码试试看！"
   ]
  },
  {
   "cell_type": "code",
   "execution_count": 44,
   "metadata": {},
   "outputs": [
    {
     "name": "stdout",
     "output_type": "stream",
     "text": [
      "0.6851400314498396\n"
     ]
    }
   ],
   "source": [
    "### 以下内容无需修改，直接运行即可\n",
    "from snownlp import SnowNLP\n",
    "\n",
    "text = \"这个商品我非常喜欢，颜色很合我意！\"\n",
    "sentiment = SnowNLP(text).sentiments\n",
    "\n",
    "print(sentiment)"
   ]
  },
  {
   "cell_type": "markdown",
   "metadata": {},
   "source": [
    "接下来，我们将好友的签名进行文本预处理，并尝试统计其中积极、中立、消极的个数。\n",
    "\n",
    "### 练习：统计好友签名情感分析结果比例\n",
    "* 统计sentiments中大于0.66的个数\n",
    "* 统计sentiments中大于等于0.33且小于等于0.66的个数\n",
    "* 统计sentiments中小于0.33的个数\n",
    "\n",
    "提示：可以用循环语句或者列表表达式实现。"
   ]
  },
  {
   "cell_type": "code",
   "execution_count": 45,
   "metadata": {},
   "outputs": [],
   "source": [
    "### 以下内容无需修改，直接运行即可\n",
    "sentiments = []\n",
    "for i in tList:\n",
    "    sentiments.append(SnowNLP(i).sentiments) "
   ]
  },
  {
   "cell_type": "code",
   "execution_count": 46,
   "metadata": {},
   "outputs": [],
   "source": [
    "### TODO：统计sentiments中大于0.66的个数\n",
    "positive = len([sentiment for sentiment in sentiments if sentiment > 0.66])\n",
    "\n",
    "### TODO：统计sentiments中大于等于0.33且小于等于0.66的个数\n",
    "neutral = len([sentiment for sentiment in sentiments if 0.33 <= sentiment <= 0.66])\n",
    "\n",
    "### TODO：统计sentiments中小于0.33的个数\n",
    "negative = len([sentiment for sentiment in sentiments if sentiment < 0.33])"
   ]
  },
  {
   "cell_type": "code",
   "execution_count": 47,
   "metadata": {},
   "outputs": [
    {
     "data": {
      "image/png": "[encoded data removed]",
      "text/plain": [
       "<Figure size 432x288 with 1 Axes>"
      ]
     },
     "metadata": {},
     "output_type": "display_data"
    }
   ],
   "source": [
    "### 以下内容无需修改，直接运行即可\n",
    "labels = [u'Negative',u'Neutral',u'Positive']\n",
    "values = (negative,neutral,positive)\n",
    "plt.xlabel(u'Sentiment Analysis')\n",
    "plt.ylabel(u'Number')\n",
    "plt.xticks(range(3),labels)\n",
    "plt.bar(range(3), values)\n",
    "\n",
    "plt.title('Sentiment Analysis of Friends signature')\n",
    "plt.show()"
   ]
  },
  {
   "cell_type": "markdown",
   "metadata": {},
   "source": [
    "**注意: 当你写完了所有的代码，并且回答了所有的问题。你就可以把你的 iPython Notebook 导出成 HTML 文件。你可以在菜单栏，这样导出File -> Download as -> HTML (.html)把这个 HTML 和这个 iPython notebook 一起做为你的作业提交。**"
   ]
  }
 ],
 "metadata": {
  "kernelspec": {
   "display_name": "Python 3",
   "language": "python",
   "name": "python3"
  },
  "language_info": {
   "codemirror_mode": {
    "name": "ipython",
    "version": 3
   },
   "file_extension": ".py",
   "mimetype": "text/x-python",
   "name": "python",
   "nbconvert_exporter": "python",
   "pygments_lexer": "ipython3",
   "version": "3.6.5"
  }
 },
 "nbformat": 4,
 "nbformat_minor": 2
}
